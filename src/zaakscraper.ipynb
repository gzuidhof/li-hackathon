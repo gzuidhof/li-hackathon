{
 "cells": [
  {
   "cell_type": "code",
   "execution_count": 76,
   "metadata": {
    "collapsed": true
   },
   "outputs": [],
   "source": [
    "from lxml import html\n",
    "import requests\n",
    "import re\n",
    "import tqdm"
   ]
  },
  {
   "cell_type": "code",
   "execution_count": 74,
   "metadata": {
    "collapsed": true
   },
   "outputs": [],
   "source": [
    "#zaken = ['ECLI:NL:GHDHA:2017:2572', 'ECLI:NL:GHAMS:2017:3031', 'ECLI:NL:PHR:2014:1901', 'ECLI:NL:GHSHE:2017:1760']\n",
    "with open('../data/eclis.csv') as f:\n",
    "    zaken = f.read().splitlines()"
   ]
  },
  {
   "cell_type": "code",
   "execution_count": 81,
   "metadata": {
    "collapsed": false
   },
   "outputs": [],
   "source": [
    "def scrape_zaak(eclinummer):\n",
    "    results=[]\n",
    "    page = None\n",
    "    tries = 0\n",
    "    for i in range(10):\n",
    "        try:\n",
    "            page = requests.get('https://uitspraken.rechtspraak.nl/inziendocument?id={ecli}'.format(ecli=eclinummer))\n",
    "            break\n",
    "        except:\n",
    "            pass\n",
    "        \n",
    "    if page is None:\n",
    "        print(\"FAILED AFTER 10 TRIES\", eclinummer)\n",
    "        return []\n",
    "\n",
    "    htmltree = html.fromstring(page.content)\n",
    "    tree = htmltree.xpath('//dt[text()=\"Formele relaties\"]/following-sibling::dd[1]//text()')\n",
    "    tree = [' '.join(i.split()) for i in tree]\n",
    "    tree = [i for i in tree if i]\n",
    "    is_ecli = [s.startswith(\"ECLI\") for s in tree]\n",
    "    for i in range(0, len(is_ecli)):\n",
    "        if is_ecli[i] is True:\n",
    "            c_ecli = tree[i]\n",
    "            b_ecli = ''\n",
    "            n_ecli = ''\n",
    "            if i>0:\n",
    "                if is_ecli[i-1] is False:\n",
    "                    b_ecli = tree[i-1]\n",
    "            if i == len(is_ecli)-2:\n",
    "                if is_ecli[i+1] is False:\n",
    "                    n_ecli = tree[i+1]\n",
    "            if i < len(is_ecli)-2:\n",
    "                if is_ecli[i+2] is False and is_ecli[i+1] is False:\n",
    "                    n_ecli = tree[i+1]\n",
    "            result = (eclinummer, c_ecli, b_ecli, n_ecli)\n",
    "            results.append(result)\n",
    "    return results"
   ]
  },
  {
   "cell_type": "code",
   "execution_count": 82,
   "metadata": {
    "collapsed": false
   },
   "outputs": [],
   "source": [
    "#from multiprocessing.pool import ThreadPool as Pool\n",
    "from multiprocessing import Pool\n",
    "\n",
    "def scrape_zaken(zaken):\n",
    "    results = []\n",
    "    for zaak in tqdm.tqdm(zaken):\n",
    "        results.extend(scrape_zaak(zaak))\n",
    "    return results"
   ]
  },
  {
   "cell_type": "code",
   "execution_count": 83,
   "metadata": {
    "collapsed": false
   },
   "outputs": [
    {
     "name": "stderr",
     "output_type": "stream",
     "text": [
      "\n",
      "  0%|                                                | 0/89999 [00:00<?, ?it/s]\n",
      "  0%|                                    | 1/89999 [00:10<256:08:31, 10.25s/it]\n",
      "  0%|                                   | 10/89999 [00:10<179:38:09,  7.19s/it]\n",
      "  0%|                                   | 19/89999 [00:16<130:19:55,  5.21s/it]\n",
      "  0%|                                    | 79/89999 [00:17<91:23:03,  3.66s/it]\n",
      "  0%|                                    | 81/89999 [00:20<73:05:54,  2.93s/it]\n",
      "  0%|                                    | 99/89999 [00:25<53:10:54,  2.13s/it]\n",
      "  0%|                                   | 136/89999 [00:25<37:18:34,  1.49s/it]\n",
      "  0%|                                    | 136/89999 [00:36<6:45:16,  3.70it/s]\n",
      "  0%|                                   | 145/89999 [01:08<62:08:27,  2.49s/it]\n",
      "  1%|▏                                  | 532/89999 [01:25<43:37:43,  1.76s/it]\n",
      "  1%|▏                                  | 623/89999 [01:27<30:42:18,  1.24s/it]\n",
      "  1%|▎                                  | 735/89999 [01:28<21:31:13,  1.15it/s]\n",
      "  1%|▎                                  | 748/89999 [01:44<24:22:00,  1.02it/s]\n",
      "  1%|▎                                  | 905/89999 [01:49<17:15:08,  1.43it/s]\n",
      "  1%|▍                                  | 994/89999 [01:51<12:11:26,  2.03it/s]\n",
      "  1%|▍                                 | 1001/89999 [01:55<13:24:49,  1.84it/s]\n",
      "  1%|▍                                 | 1039/89999 [01:59<10:06:31,  2.44it/s]\n",
      "  1%|▍                                  | 1082/89999 [01:59<7:08:06,  3.46it/s]\n",
      "  1%|▍                                  | 1124/89999 [02:00<5:09:42,  4.78it/s]\n",
      "  1%|▍                                  | 1129/89999 [02:01<4:38:36,  5.32it/s]\n",
      "  1%|▍                                  | 1133/89999 [02:04<9:32:46,  2.59it/s]\n",
      "  1%|▍                                  | 1158/89999 [02:05<6:47:27,  3.63it/s]\n",
      "  1%|▍                                  | 1170/89999 [02:07<5:47:57,  4.25it/s]\n",
      "  1%|▍                                  | 1188/89999 [02:12<6:19:45,  3.90it/s]\n",
      "  1%|▍                                  | 1211/89999 [02:16<5:40:20,  4.35it/s]\n",
      "  1%|▍                                  | 1226/89999 [02:20<5:56:57,  4.14it/s]\n",
      "  1%|▍                                  | 1242/89999 [02:22<5:08:50,  4.79it/s]\n",
      "  1%|▍                                  | 1253/89999 [02:26<6:00:28,  4.10it/s]"
     ]
    },
    {
     "ename": "KeyboardInterrupt",
     "evalue": "",
     "output_type": "error",
     "traceback": [
      "\u001b[1;31m---------------------------------------------------------------------------\u001b[0m",
      "\u001b[1;31mIndexError\u001b[0m                                Traceback (most recent call last)",
      "\u001b[1;32mC:\\python35\\lib\\multiprocessing\\pool.py\u001b[0m in \u001b[0;36mnext\u001b[1;34m(self, timeout)\u001b[0m\n\u001b[0;32m    679\u001b[0m             \u001b[1;32mtry\u001b[0m\u001b[1;33m:\u001b[0m\u001b[1;33m\u001b[0m\u001b[0m\n\u001b[1;32m--> 680\u001b[1;33m                 \u001b[0mitem\u001b[0m \u001b[1;33m=\u001b[0m \u001b[0mself\u001b[0m\u001b[1;33m.\u001b[0m\u001b[0m_items\u001b[0m\u001b[1;33m.\u001b[0m\u001b[0mpopleft\u001b[0m\u001b[1;33m(\u001b[0m\u001b[1;33m)\u001b[0m\u001b[1;33m\u001b[0m\u001b[0m\n\u001b[0m\u001b[0;32m    681\u001b[0m             \u001b[1;32mexcept\u001b[0m \u001b[0mIndexError\u001b[0m\u001b[1;33m:\u001b[0m\u001b[1;33m\u001b[0m\u001b[0m\n",
      "\u001b[1;31mIndexError\u001b[0m: pop from an empty deque",
      "\nDuring handling of the above exception, another exception occurred:\n",
      "\u001b[1;31mKeyboardInterrupt\u001b[0m                         Traceback (most recent call last)",
      "\u001b[1;32m<ipython-input-83-1685142be77d>\u001b[0m in \u001b[0;36m<module>\u001b[1;34m()\u001b[0m\n\u001b[0;32m      1\u001b[0m \u001b[1;32mfrom\u001b[0m \u001b[0mmultiprocessing\u001b[0m\u001b[1;33m.\u001b[0m\u001b[0mpool\u001b[0m \u001b[1;32mimport\u001b[0m \u001b[0mThreadPool\u001b[0m\u001b[1;33m\u001b[0m\u001b[0m\n\u001b[0;32m      2\u001b[0m \u001b[0mp\u001b[0m \u001b[1;33m=\u001b[0m \u001b[0mThreadPool\u001b[0m\u001b[1;33m(\u001b[0m\u001b[1;36m64\u001b[0m\u001b[1;33m)\u001b[0m\u001b[1;33m\u001b[0m\u001b[0m\n\u001b[1;32m----> 3\u001b[1;33m \u001b[0mresult\u001b[0m \u001b[1;33m=\u001b[0m \u001b[0mlist\u001b[0m\u001b[1;33m(\u001b[0m\u001b[0mtqdm\u001b[0m\u001b[1;33m.\u001b[0m\u001b[0mtqdm\u001b[0m\u001b[1;33m(\u001b[0m\u001b[0mp\u001b[0m\u001b[1;33m.\u001b[0m\u001b[0mimap\u001b[0m\u001b[1;33m(\u001b[0m\u001b[0mscrape_zaak\u001b[0m\u001b[1;33m,\u001b[0m \u001b[0mzaken\u001b[0m\u001b[1;33m)\u001b[0m\u001b[1;33m,\u001b[0m \u001b[0mtotal\u001b[0m\u001b[1;33m=\u001b[0m\u001b[0mlen\u001b[0m\u001b[1;33m(\u001b[0m\u001b[0mzaken\u001b[0m\u001b[1;33m)\u001b[0m\u001b[1;33m)\u001b[0m\u001b[1;33m)\u001b[0m\u001b[1;33m\u001b[0m\u001b[0m\n\u001b[0m",
      "\u001b[1;32mC:\\python35\\lib\\site-packages\\tqdm\\_tqdm.py\u001b[0m in \u001b[0;36m__iter__\u001b[1;34m(self)\u001b[0m\n\u001b[0;32m    831\u001b[0m \"\"\", fp_write=getattr(self.fp, 'write', sys.stderr.write))\n\u001b[0;32m    832\u001b[0m \u001b[1;33m\u001b[0m\u001b[0m\n\u001b[1;32m--> 833\u001b[1;33m             \u001b[1;32mfor\u001b[0m \u001b[0mobj\u001b[0m \u001b[1;32min\u001b[0m \u001b[0miterable\u001b[0m\u001b[1;33m:\u001b[0m\u001b[1;33m\u001b[0m\u001b[0m\n\u001b[0m\u001b[0;32m    834\u001b[0m                 \u001b[1;32myield\u001b[0m \u001b[0mobj\u001b[0m\u001b[1;33m\u001b[0m\u001b[0m\n\u001b[0;32m    835\u001b[0m                 \u001b[1;31m# Update and print the progressbar.\u001b[0m\u001b[1;33m\u001b[0m\u001b[1;33m\u001b[0m\u001b[0m\n",
      "\u001b[1;32mC:\\python35\\lib\\multiprocessing\\pool.py\u001b[0m in \u001b[0;36mnext\u001b[1;34m(self, timeout)\u001b[0m\n\u001b[0;32m    682\u001b[0m                 \u001b[1;32mif\u001b[0m \u001b[0mself\u001b[0m\u001b[1;33m.\u001b[0m\u001b[0m_index\u001b[0m \u001b[1;33m==\u001b[0m \u001b[0mself\u001b[0m\u001b[1;33m.\u001b[0m\u001b[0m_length\u001b[0m\u001b[1;33m:\u001b[0m\u001b[1;33m\u001b[0m\u001b[0m\n\u001b[0;32m    683\u001b[0m                     \u001b[1;32mraise\u001b[0m \u001b[0mStopIteration\u001b[0m\u001b[1;33m\u001b[0m\u001b[0m\n\u001b[1;32m--> 684\u001b[1;33m                 \u001b[0mself\u001b[0m\u001b[1;33m.\u001b[0m\u001b[0m_cond\u001b[0m\u001b[1;33m.\u001b[0m\u001b[0mwait\u001b[0m\u001b[1;33m(\u001b[0m\u001b[0mtimeout\u001b[0m\u001b[1;33m)\u001b[0m\u001b[1;33m\u001b[0m\u001b[0m\n\u001b[0m\u001b[0;32m    685\u001b[0m                 \u001b[1;32mtry\u001b[0m\u001b[1;33m:\u001b[0m\u001b[1;33m\u001b[0m\u001b[0m\n\u001b[0;32m    686\u001b[0m                     \u001b[0mitem\u001b[0m \u001b[1;33m=\u001b[0m \u001b[0mself\u001b[0m\u001b[1;33m.\u001b[0m\u001b[0m_items\u001b[0m\u001b[1;33m.\u001b[0m\u001b[0mpopleft\u001b[0m\u001b[1;33m(\u001b[0m\u001b[1;33m)\u001b[0m\u001b[1;33m\u001b[0m\u001b[0m\n",
      "\u001b[1;32mC:\\python35\\lib\\threading.py\u001b[0m in \u001b[0;36mwait\u001b[1;34m(self, timeout)\u001b[0m\n\u001b[0;32m    291\u001b[0m         \u001b[1;32mtry\u001b[0m\u001b[1;33m:\u001b[0m    \u001b[1;31m# restore state no matter what (e.g., KeyboardInterrupt)\u001b[0m\u001b[1;33m\u001b[0m\u001b[0m\n\u001b[0;32m    292\u001b[0m             \u001b[1;32mif\u001b[0m \u001b[0mtimeout\u001b[0m \u001b[1;32mis\u001b[0m \u001b[1;32mNone\u001b[0m\u001b[1;33m:\u001b[0m\u001b[1;33m\u001b[0m\u001b[0m\n\u001b[1;32m--> 293\u001b[1;33m                 \u001b[0mwaiter\u001b[0m\u001b[1;33m.\u001b[0m\u001b[0macquire\u001b[0m\u001b[1;33m(\u001b[0m\u001b[1;33m)\u001b[0m\u001b[1;33m\u001b[0m\u001b[0m\n\u001b[0m\u001b[0;32m    294\u001b[0m                 \u001b[0mgotit\u001b[0m \u001b[1;33m=\u001b[0m \u001b[1;32mTrue\u001b[0m\u001b[1;33m\u001b[0m\u001b[0m\n\u001b[0;32m    295\u001b[0m             \u001b[1;32melse\u001b[0m\u001b[1;33m:\u001b[0m\u001b[1;33m\u001b[0m\u001b[0m\n",
      "\u001b[1;31mKeyboardInterrupt\u001b[0m: "
     ]
    }
   ],
   "source": [
    "from multiprocessing.pool import ThreadPool\n",
    "p = Pool(64)\n",
    "result = list(tqdm.tqdm(p.imap(scrape_zaak, zaken), total=len(zaken)))"
   ]
  },
  {
   "cell_type": "code",
   "execution_count": null,
   "metadata": {
    "collapsed": true
   },
   "outputs": [],
   "source": []
  }
 ],
 "metadata": {
  "kernelspec": {
   "display_name": "Python 3",
   "language": "python",
   "name": "python3"
  },
  "language_info": {
   "codemirror_mode": {
    "name": "ipython",
    "version": 3
   },
   "file_extension": ".py",
   "mimetype": "text/x-python",
   "name": "python",
   "nbconvert_exporter": "python",
   "pygments_lexer": "ipython3",
   "version": "3.5.3"
  }
 },
 "nbformat": 4,
 "nbformat_minor": 0
}
