{
 "cells": [
  {
   "cell_type": "code",
   "execution_count": 1,
   "metadata": {
    "collapsed": true
   },
   "outputs": [],
   "source": [
    "from lxml import html\n",
    "import requests\n",
    "import re\n",
    "import tqdm"
   ]
  },
  {
   "cell_type": "code",
   "execution_count": 2,
   "metadata": {
    "collapsed": true
   },
   "outputs": [],
   "source": [
    "#zaken = ['ECLI:NL:GHDHA:2017:2572', 'ECLI:NL:GHAMS:2017:3031', 'ECLI:NL:PHR:2014:1901', 'ECLI:NL:GHSHE:2017:1760']\n",
    "with open('../data/eclis.csv') as f:\n",
    "    zaken = f.read().splitlines()"
   ]
  },
  {
   "cell_type": "code",
   "execution_count": 3,
   "metadata": {
    "collapsed": true
   },
   "outputs": [],
   "source": [
    "def scrape_zaak(eclinummer):\n",
    "    results=[]\n",
    "    page = None\n",
    "    tries = 0\n",
    "    for i in range(10):\n",
    "        try:\n",
    "            page = requests.get('https://uitspraken.rechtspraak.nl/inziendocument?id={ecli}'.format(ecli=eclinummer))\n",
    "            break\n",
    "        except:\n",
    "            pass\n",
    "        \n",
    "    if page is None:\n",
    "        print(\"FAILED AFTER 10 TRIES\", eclinummer)\n",
    "        return []\n",
    "\n",
    "    htmltree = html.fromstring(page.content)\n",
    "    tree = htmltree.xpath('//dt[text()=\"Formele relaties\"]/following-sibling::dd[1]//text()')\n",
    "    tree = [' '.join(i.split()) for i in tree]\n",
    "    tree = [i for i in tree if i]\n",
    "    is_ecli = [s.startswith(\"ECLI\") for s in tree]\n",
    "    for i in range(0, len(is_ecli)):\n",
    "        if is_ecli[i] is True:\n",
    "            c_ecli = tree[i]\n",
    "            b_ecli = ''\n",
    "            n_ecli = ''\n",
    "            if i>0:\n",
    "                if is_ecli[i-1] is False:\n",
    "                    b_ecli = tree[i-1]\n",
    "            if i == len(is_ecli)-2:\n",
    "                if is_ecli[i+1] is False:\n",
    "                    n_ecli = tree[i+1]\n",
    "            if i < len(is_ecli)-2:\n",
    "                if is_ecli[i+2] is False and is_ecli[i+1] is False:\n",
    "                    n_ecli = tree[i+1]\n",
    "            result = (eclinummer, c_ecli, b_ecli, n_ecli)\n",
    "            results.append(result)\n",
    "    return results"
   ]
  },
  {
   "cell_type": "code",
   "execution_count": 4,
   "metadata": {
    "collapsed": true
   },
   "outputs": [],
   "source": [
    "#from multiprocessing.pool import ThreadPool as Pool\n",
    "from multiprocessing import Pool\n",
    "\n",
    "def scrape_zaken(zaken):\n",
    "    results = []\n",
    "    for zaak in tqdm.tqdm(zaken):\n",
    "        results.extend(scrape_zaak(zaak))\n",
    "    return results"
   ]
  },
  {
   "cell_type": "code",
   "execution_count": null,
   "metadata": {
    "scrolled": true
   },
   "outputs": [
    {
     "name": "stderr",
     "output_type": "stream",
     "text": [
      " 57%|█████▋    | 51470/89999 [47:49<31:24, 20.44it/s]  "
     ]
    }
   ],
   "source": [
    "from multiprocessing.pool import ThreadPool\n",
    "p = Pool(32)\n",
    "result = list(tqdm.tqdm(p.imap_unordered(scrape_zaak, zaken), total=len(zaken)))\n",
    "\n",
    "import pickle\n",
    "with open('../data/bas_output.pkl', 'w') as f:\n",
    "    pickle.dump(result, f)"
   ]
  },
  {
   "cell_type": "code",
   "execution_count": null,
   "metadata": {
    "collapsed": true
   },
   "outputs": [],
   "source": [
    "with open('../data/bas_output.pkl', 'r') as f:\n",
    "    print(pickle.load(f))"
   ]
  },
  {
   "cell_type": "code",
   "execution_count": null,
   "metadata": {
    "collapsed": true
   },
   "outputs": [],
   "source": []
  }
 ],
 "metadata": {
  "kernelspec": {
   "display_name": "Python 2",
   "language": "python",
   "name": "python2"
  },
  "language_info": {
   "codemirror_mode": {
    "name": "ipython",
    "version": 2
   },
   "file_extension": ".py",
   "mimetype": "text/x-python",
   "name": "python",
   "nbconvert_exporter": "python",
   "pygments_lexer": "ipython2",
   "version": "2.7.13"
  }
 },
 "nbformat": 4,
 "nbformat_minor": 1
}
